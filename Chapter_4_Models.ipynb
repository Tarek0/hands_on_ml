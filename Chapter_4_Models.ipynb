{
 "cells": [
  {
   "cell_type": "markdown",
   "metadata": {},
   "source": [
    "# Machine Learning Algorithms in more detail\n",
    "This notebook will focus on Regression"
   ]
  },
  {
   "cell_type": "markdown",
   "metadata": {},
   "source": [
    "### 1. Linear Regression"
   ]
  },
  {
   "cell_type": "code",
   "execution_count": 82,
   "metadata": {
    "collapsed": false
   },
   "outputs": [
    {
     "data": {
      "image/png": "[encoded data removed]",
      "text/plain": [
       "<matplotlib.figure.Figure at 0x194f62aecc0>"
      ]
     },
     "metadata": {},
     "output_type": "display_data"
    }
   ],
   "source": [
    "# Closed-form solution - usng MSE to optimize the error terms in training\n",
    "# This method is called the Normal Equation\n",
    "\n",
    "# Let's generate some linear data and test our Normal Equation\n",
    "import numpy as np\n",
    "\n",
    "X = 2 * np.random.rand(100, 1)\n",
    "y = 4 + 3 * X + np.random.rand(100, 1)\n",
    "\n",
    "%matplotlib inline\n",
    "import matplotlib\n",
    "from matplotlib import pyplot as plt\n",
    "plt.scatter(X, y)\n",
    "plt.xlabel(\"xi\")\n",
    "plt.ylabel(\"y\")\n",
    "plt.show()"
   ]
  },
  {
   "cell_type": "code",
   "execution_count": 25,
   "metadata": {
    "collapsed": false
   },
   "outputs": [
    {
     "name": "stdout",
     "output_type": "stream",
     "text": [
      "[[ 4.49478424]\n",
      " [ 2.99987679]]\n",
      "That is close to our defined function, that had thetas of 4, and 3\n"
     ]
    }
   ],
   "source": [
    "# Now let's compute the Normal Equation. \n",
    "# Compute the inverese of the matrix using NumPy's Linear Algera module (np.linalg)\n",
    "X_b = np.c_[np.ones((100, 1)), X] # add x0 = 1 to each instance\n",
    "theta_best = np.linalg.inv(X_b.T.dot(X_b)).dot(X_b.T).dot(y)\n",
    "\n",
    "print(theta_best)\n",
    "print(\"That is close to our defined function, that had thetas of 4, and 3\")"
   ]
  },
  {
   "cell_type": "code",
   "execution_count": 26,
   "metadata": {
    "collapsed": false
   },
   "outputs": [
    {
     "data": {
      "text/plain": [
       "array([[  4.49478424],\n",
       "       [ 10.49453781]])"
      ]
     },
     "execution_count": 26,
     "metadata": {},
     "output_type": "execute_result"
    }
   ],
   "source": [
    "# Now we can make predictions using our Normal Equation\n",
    "X_new = np.array([[0], [2]])\n",
    "X_new_b = np.c_[np.ones((2, 1)), X_new] #add x0 =1 to each instance\n",
    "y_predict = X_new_b.dot(theta_best)\n",
    "y_predict"
   ]
  },
  {
   "cell_type": "code",
   "execution_count": 33,
   "metadata": {
    "collapsed": false
   },
   "outputs": [
    {
     "name": "stdout",
     "output_type": "stream",
     "text": [
      "New x points to predict\n",
      "[[0]\n",
      " [2]]\n",
      "\n",
      "New points with 1 for each x0 instance. Included to allows theta_0 to multiple by 1\n",
      "[[ 1.  0.]\n",
      " [ 1.  2.]]\n",
      "\n",
      "Predicted y points\n",
      "[[  4.49478424]\n",
      " [ 10.49453781]]\n"
     ]
    }
   ],
   "source": [
    "print(\"New x points to predict\")\n",
    "print(X_new)\n",
    "print(\"\\nNew points with 1 for each x0 instance. Included to allows theta_0 to multiple by 1\")\n",
    "print(X_new_b)\n",
    "print(\"\\nPredicted y points\")\n",
    "print(y_predict)"
   ]
  },
  {
   "cell_type": "code",
   "execution_count": 31,
   "metadata": {
    "collapsed": false
   },
   "outputs": [
    {
     "data": {
      "image/png": "[encoded data removed]",
      "text/plain": [
       "<matplotlib.figure.Figure at 0x194f5607390>"
      ]
     },
     "metadata": {},
     "output_type": "display_data"
    }
   ],
   "source": [
    "# Let's plot the model prediction\n",
    "plt.plot(X_new, y_predict, \"r-\", label = \"Predictions\")\n",
    "plt.plot(X, y, \"b.\")\n",
    "plt.axis([0, 2, 0, 15])\n",
    "plt.legend(\"upper left\")\n",
    "plt.show()"
   ]
  },
  {
   "cell_type": "code",
   "execution_count": 38,
   "metadata": {
    "collapsed": false
   },
   "outputs": [
    {
     "name": "stdout",
     "output_type": "stream",
     "text": [
      "Intercept, Coefficients\n",
      "[ 4.49478424] [[ 2.99987679]]\n",
      "\n",
      "Predictions\n",
      "[[  4.49478424]\n",
      " [ 10.49453781]]\n"
     ]
    }
   ],
   "source": [
    "# Alternate code using Sklearn\n",
    "from sklearn.linear_model import LinearRegression\n",
    "lin_reg = LinearRegression()\n",
    "lin_reg.fit(X, y)\n",
    "print(\"Intercept, Coefficients\")\n",
    "print(lin_reg.intercept_, lin_reg.coef_)\n",
    "print(\"\\nPredictions\")\n",
    "print(lin_reg.predict(X_new))\n"
   ]
  },
  {
   "cell_type": "markdown",
   "metadata": {},
   "source": [
    "### Compuational Complexity\n",
    "The Normal Equation method computes the inverse of Xt . X, which is an n by n matrix (where n is the number of features). The compuational complexity of inverting a such a matrix is approx. O(n^2.4) to O(n^3). So if you double the number of features (1 --> 2) the computational complexity is increased by 2^2.4 = 5.3."
   ]
  },
  {
   "cell_type": "markdown",
   "metadata": {},
   "source": [
    "### Gradient Descent\n",
    "Gradient Descent is a very generic optimization algorithm. The general idea is to tweak parameters iteratively in order to minimize a cost function.\n",
    "\n",
    "Gradient Descent measures the local grdient of the error function with regards to paramater vector theta, and goes in the direction of the descending gradient. Once the gradient is zero is stops.\n",
    "\n",
    "It starts by filling theta with random values (random initilization), and then it gradually improves at each step. Each step attempting to decrease the cost function (i.e. MSE) untill the algorithm covergese to a minimum.\n",
    "\n",
    "An important parameter in Gradient Descent is the step size, determined by the learning rate hyperparameter. If it's too small is take a long time to converge, however too big and it may step over the minimam, and can cause the algorithm to diverge.\n",
    "\n",
    "Finally not all cost functions are nice convex functions, some contain local minimas, which can cause the algorithm to never find the global minimal depending on the random initilization. The MSE cost function however is convex and thus will always find  the global minimial with a reasonable learning rate. The scale of each feature can affect how long GD takes to find the minimal, and it's reccomended to have features on a similar scale.  "
   ]
  },
  {
   "cell_type": "markdown",
   "metadata": {},
   "source": [
    "### Batch Gradient Descent\n",
    "When using Gradient Descent we need to calculate the gradient of the cost function with regards to each model parameter theta (the paritial derivative) to determine which to change. To do this we calculate the gradient vector, which contains the partial derivatives of the cost function (one for each model parameter).\n",
    "\n",
    "The gradients are calculated over the full training set, which is where the name Batch Gradient Descent comes from. It can be very slow when the data sets is large.\n"
   ]
  },
  {
   "cell_type": "code",
   "execution_count": 41,
   "metadata": {
    "collapsed": false
   },
   "outputs": [
    {
     "name": "stdout",
     "output_type": "stream",
     "text": [
      "Model Paramters found using Gradient Descent\n",
      "[[ 4.49478424]\n",
      " [ 2.99987679]]\n"
     ]
    }
   ],
   "source": [
    "# Here's an example \n",
    "eta = 0.1 # the learning rate\n",
    "n_iterations = 1000\n",
    "m = 100\n",
    "\n",
    "theta = np.random.rand(2, 1) # random initilization\n",
    "\n",
    "for iteration in range(n_iterations):\n",
    "    gradients = 2/m * X_b.T.dot(X_b.dot(theta) - y)\n",
    "    theta = theta - (eta * gradients)  \n",
    "    \n",
    "print(\"Model Paramters found using Gradient Descent\")\n",
    "print(theta)"
   ]
  },
  {
   "cell_type": "markdown",
   "metadata": {},
   "source": [
    "#### Determining the correct learning rate \n",
    "This can be difficult, and you don't want to set too many iternations if not needed. An approach is to introduce a tolerance. In which the algorithm will stop once the gradient vector becomes less than the tolerance. Even with a tolerance it can still take a while to find the optimal solution. It can take O(1/e) where is the tolerance."
   ]
  },
  {
   "cell_type": "markdown",
   "metadata": {},
   "source": [
    "### Stochastic Gradient Descent\n",
    "The main problem with Batch Gradient Descent is the fact that it uses the whole training set to compute gradients at every step. At the opposite extreme Stochastic Gradient Descent just picks a random instance in the training set at every step and computes the gradients based only on that single instance. This makes it much faster, since it only has to manipulate a small amount of data. \n",
    "\n",
    "Using a single instance also makes this algorithm much less regular. Instead of gently decreasing towards the minima, it will bounce up and down, decreasing only on average. Overtime it will get very close to the minumum but will never find the optimal. \n",
    "\n",
    "The randomness of Stochastic Gradient Descent means it will it can jump out of a local minimum to find a global minimum. An approach to make SGD settle at the minima is to gradually reduce the learning rate, this process is called simulated annealing. A schedule function determines the learning rate at each iteration."
   ]
  },
  {
   "cell_type": "code",
   "execution_count": 45,
   "metadata": {
    "collapsed": false
   },
   "outputs": [
    {
     "name": "stdout",
     "output_type": "stream",
     "text": [
      "[[ 4.48463605]\n",
      " [ 3.00562683]]\n"
     ]
    }
   ],
   "source": [
    "# Here's a simple example of SGD\n",
    "n_epochs = 50\n",
    "t0, t1, = 5, 50    # learning schedule hypterparameters \n",
    "\n",
    "def learning_schedule(t):\n",
    "    return t0 / (t + t1)\n",
    "\n",
    "theta = np.random.randn(2, 1) # random initialization\n",
    "\n",
    "for epoch in range(n_epochs):\n",
    "    for i in range(m):\n",
    "        random_index = np.random.randint(m)\n",
    "        xi = X_b[random_index:random_index + 1]\n",
    "        yi = y[random_index:random_index + 1]\n",
    "        gradients = 2 * xi.T.dot(xi.dot(theta) - yi)\n",
    "        eta = learning_schedule(epoch * m + i)\n",
    "        theta = theta - eta * gradients\n",
    "        \n",
    "print(theta)"
   ]
  },
  {
   "cell_type": "code",
   "execution_count": 49,
   "metadata": {
    "collapsed": false
   },
   "outputs": [
    {
     "name": "stdout",
     "output_type": "stream",
     "text": [
      "[ 4.49038191]\n",
      "[ 3.00021518]\n"
     ]
    }
   ],
   "source": [
    "# Here's how to do it using sklearn.\n",
    "from sklearn.linear_model import SGDRegressor\n",
    "sgd_reg = SGDRegressor(n_iter = 50, penalty = None, eta0 = 0.1)\n",
    "sgd_reg.fit(X, y.ravel())\n",
    "\n",
    "print(sgd_reg.intercept_)\n",
    "print(sgd_reg.coef_)"
   ]
  },
  {
   "cell_type": "markdown",
   "metadata": {},
   "source": [
    "### Mini-batch Gradient Descent\n",
    "\n",
    "Instead of computing the gradients on the full training set or the on a single instance, Mini-batch Gradient Descent computes the gradients on small random sets of instances called mini-batches. The algorithms process is less erratic than SGD, and will get closer to the minimum than SGB. However it may find if harder to escape from a local minima."
   ]
  },
  {
   "cell_type": "markdown",
   "metadata": {},
   "source": [
    "### Polynomial Regression\n",
    "You can use linear models to fit nonlinear data, a simple method is to add powers of each feature as a new feature, and then train a linear model on this extended set of features."
   ]
  },
  {
   "cell_type": "code",
   "execution_count": 52,
   "metadata": {
    "collapsed": false
   },
   "outputs": [
    {
     "data": {
      "image/png": "[encoded data removed]",
      "text/plain": [
       "<matplotlib.figure.Figure at 0x194f605cb38>"
      ]
     },
     "metadata": {},
     "output_type": "display_data"
    }
   ],
   "source": [
    "# Let's look at an example.\n",
    "\n",
    "m = 100\n",
    "X = 6 * np.random.rand(m, 1) - 3\n",
    "y = 0.5 * X**2 + X + 2 + np.random.randn(m, 1)\n",
    "\n",
    "plt.scatter(X, y)\n",
    "plt.xlabel(\"xi\")\n",
    "plt.ylabel(\"y\")\n",
    "plt.show()"
   ]
  },
  {
   "cell_type": "code",
   "execution_count": 59,
   "metadata": {
    "collapsed": false
   },
   "outputs": [
    {
     "name": "stdout",
     "output_type": "stream",
     "text": [
      "Original feature - row 0\n",
      "[-1.56310758]\n",
      "\n",
      "X_poly now contains the orginal feature of X, plus the square of this feature\n",
      "[-1.56310758  2.44330531]\n"
     ]
    }
   ],
   "source": [
    "#Let's use sklearns polynomialFeature class to transform our training data, adding a square (2nd-degree polynomial) of \n",
    "# each feature as new features.\n",
    "from sklearn.preprocessing import PolynomialFeatures\n",
    "poly_features = PolynomialFeatures(degree=2, include_bias = False)\n",
    "X_poly = poly_features.fit_transform(X)\n",
    "\n",
    "print(\"Original feature - row 0\")\n",
    "print(X[0])\n",
    "print(\"\\nX_poly now contains the orginal feature of X, plus the square of this feature\")\n",
    "print(X_poly[0])"
   ]
  },
  {
   "cell_type": "code",
   "execution_count": 63,
   "metadata": {
    "collapsed": false
   },
   "outputs": [
    {
     "data": {
      "text/plain": [
       "(array([ 1.92717805]), array([[ 1.08717158,  0.58803665]]))"
      ]
     },
     "execution_count": 63,
     "metadata": {},
     "output_type": "execute_result"
    }
   ],
   "source": [
    "# Now let's fit a Linear Regression model\n",
    "lin_reg = LinearRegression()\n",
    "lin_reg.fit(X_poly, y)\n",
    "y_pred = lin_reg.predict(X_poly)\n",
    "lin_reg.intercept_, lin_reg.coef_"
   ]
  },
  {
   "cell_type": "code",
   "execution_count": 64,
   "metadata": {
    "collapsed": false
   },
   "outputs": [
    {
     "data": {
      "text/plain": [
       "array([[ 1.66456498],\n",
       "       [ 3.27171324],\n",
       "       [ 2.70605953],\n",
       "       [ 6.27170951],\n",
       "       [ 8.00194428]])"
      ]
     },
     "execution_count": 64,
     "metadata": {},
     "output_type": "execute_result"
    }
   ],
   "source": [
    "y_pred[:5]"
   ]
  },
  {
   "cell_type": "code",
   "execution_count": 116,
   "metadata": {
    "collapsed": false
   },
   "outputs": [
    {
     "data": {
      "image/png": "[encoded data removed]",
      "text/plain": [
       "<matplotlib.figure.Figure at 0x194f61f20f0>"
      ]
     },
     "metadata": {},
     "output_type": "display_data"
    },
    {
     "ename": "NameError",
     "evalue": "name 'save_fig' is not defined",
     "output_type": "error",
     "traceback": [
      "\u001b[0;31m---------------------------------------------------------------------------\u001b[0m",
      "\u001b[0;31mNameError\u001b[0m                                 Traceback (most recent call last)",
      "\u001b[0;32m<ipython-input-116-21f53ede14b8>\u001b[0m in \u001b[0;36m<module>\u001b[0;34m()\u001b[0m\n\u001b[1;32m     16\u001b[0m \u001b[0mplt\u001b[0m\u001b[1;33m.\u001b[0m\u001b[0mlegend\u001b[0m\u001b[1;33m(\u001b[0m\u001b[0mloc\u001b[0m\u001b[1;33m=\u001b[0m\u001b[1;34m\"upper left\"\u001b[0m\u001b[1;33m,\u001b[0m \u001b[0mfontsize\u001b[0m\u001b[1;33m=\u001b[0m\u001b[1;36m14\u001b[0m\u001b[1;33m)\u001b[0m\u001b[1;33m\u001b[0m\u001b[0m\n\u001b[1;32m     17\u001b[0m \u001b[0mplt\u001b[0m\u001b[1;33m.\u001b[0m\u001b[0maxis\u001b[0m\u001b[1;33m(\u001b[0m\u001b[1;33m[\u001b[0m\u001b[1;33m-\u001b[0m\u001b[1;36m3\u001b[0m\u001b[1;33m,\u001b[0m \u001b[1;36m3\u001b[0m\u001b[1;33m,\u001b[0m \u001b[1;36m0\u001b[0m\u001b[1;33m,\u001b[0m \u001b[1;36m10\u001b[0m\u001b[1;33m]\u001b[0m\u001b[1;33m)\u001b[0m\u001b[1;33m\u001b[0m\u001b[0m\n\u001b[0;32m---> 18\u001b[0;31m \u001b[0msave_fig\u001b[0m\u001b[1;33m(\u001b[0m\u001b[1;34m\"quadratic_predictions_plot\"\u001b[0m\u001b[1;33m)\u001b[0m\u001b[1;33m\u001b[0m\u001b[0m\n\u001b[0m\u001b[1;32m     19\u001b[0m \u001b[0mplt\u001b[0m\u001b[1;33m.\u001b[0m\u001b[0mshow\u001b[0m\u001b[1;33m(\u001b[0m\u001b[1;33m)\u001b[0m\u001b[1;33m\u001b[0m\u001b[0m\n",
      "\u001b[0;31mNameError\u001b[0m: name 'save_fig' is not defined"
     ]
    },
    {
     "data": {
      "image/png": "[encoded data removed]",
      "text/plain": [
       "<matplotlib.figure.Figure at 0x194f652be48>"
      ]
     },
     "metadata": {},
     "output_type": "display_data"
    }
   ],
   "source": [
    "plt.scatter(X, y)\n",
    "plt.scatter(X, y_pred, label = \"Predictions\")\n",
    "#plt.legend(loc=\"upper left\")\n",
    "plt.xlabel(\"xi\")\n",
    "plt.ylabel(\"y\")\n",
    "plt.show()\n"
   ]
  },
  {
   "cell_type": "markdown",
   "metadata": {},
   "source": [
    "### Learning Curves\n",
    "These are plots curves of model performance on the training and validation set as a function of the training set size. To get these plots we train the model several times on different sized subsets of the training set."
   ]
  },
  {
   "cell_type": "code",
   "execution_count": 108,
   "metadata": {
    "collapsed": false
   },
   "outputs": [],
   "source": [
    "# Here we define a function that plots the learning curves of a model given some training data.\n",
    "from sklearn.metrics import mean_squared_error\n",
    "from sklearn.model_selection import train_test_split\n",
    "\n",
    "def plot_learning_curves(model, X, y):\n",
    "    X_train, X_val, y_train, y_val = train_test_split(X, y, test_size=0.2)\n",
    "    train_errors, val_errors = [], []\n",
    "    for m in range(1, len(X_train)):\n",
    "        model.fit(X_train[:m], y_train[:m])\n",
    "        y_train_predict = model.predict(X_train[:m])\n",
    "        y_val_predict = model.predict(X_val)\n",
    "        train_errors.append(mean_squared_error(y_train_predict, y_train[:m]))\n",
    "        val_errors.append(mean_squared_error(y_val_predict, y_val))\n",
    "    plt.plot(np.sqrt(train_errors), \"r-+\", linewidth=2, label=\"train\")\n",
    "    plt.plot(np.sqrt(val_errors), \"b-\", linewidth=3, label=\"validation\")\n",
    "    plt.legend(loc = \"upper right\", fontsize=14)\n",
    "    plt.xlabel(\"Training set size\", fontsize=14)\n",
    "    plt.ylabel(\"RMSE\", fontsize=14)"
   ]
  },
  {
   "cell_type": "code",
   "execution_count": 109,
   "metadata": {
    "collapsed": false,
    "scrolled": true
   },
   "outputs": [
    {
     "data": {
      "image/png": "[encoded data removed]",
      "text/plain": [
       "<matplotlib.figure.Figure at 0x194f60f2160>"
      ]
     },
     "metadata": {},
     "output_type": "display_data"
    }
   ],
   "source": [
    "lin_reg = LinearRegression()\n",
    "plot_learning_curves(lin_reg, X, y)"
   ]
  },
  {
   "cell_type": "code",
   "execution_count": 120,
   "metadata": {
    "collapsed": false
   },
   "outputs": [
    {
     "data": {
      "text/plain": [
       "[0, 80, 0, 3]"
      ]
     },
     "execution_count": 120,
     "metadata": {},
     "output_type": "execute_result"
    },
    {
     "data": {
      "image/png": "[encoded data removed]",
      "text/plain": [
       "<matplotlib.figure.Figure at 0x194f667abe0>"
      ]
     },
     "metadata": {},
     "output_type": "display_data"
    }
   ],
   "source": [
    "# Now let's look at the learning curves of a 10th-degree polynomial\n",
    "\n",
    "from sklearn.pipeline import Pipeline\n",
    "\n",
    "polynomial_regression = Pipeline([\n",
    "        (\"poly_features\", PolynomialFeatures(degree=10, include_bias=False)),\n",
    "        (\"lin_reg\", LinearRegression()),\n",
    "    ])\n",
    "\n",
    "plot_learning_curves(polynomial_regression, X, y)\n",
    "plt.axis([0, 80, 0, 3])     \n",
    "                      "
   ]
  },
  {
   "cell_type": "markdown",
   "metadata": {},
   "source": [
    "### The Bias/Variance Tradeoff\n",
    "A models generalization error can be expressed as the sum of three very different errors:\n",
    "\n",
    "Bias: Generalization error due to wrong assumptions. i.e. assuming the data is linear when it is actually quadratic. A high-bias model is most likely to underfit the training data.\n",
    "\n",
    "Variance: This due to the model's excessive sensitivity to small variations in the training data. A complex model is likely to have a a high variance, and thus overfit the training data.\n",
    "\n",
    "Irreducible Error: Due to the noisiness of the data itself.\n",
    "\n",
    "Increasing a model's complexity will typically increase its variance and reduce its bias. And reducing a model's complexity increases its bias and reduces its variance. This relationship is called the Bias-Variance Tradeoff."
   ]
  },
  {
   "cell_type": "markdown",
   "metadata": {},
   "source": [
    "### Regularized Linear Model\n",
    "\n",
    "A simple method to reduce overfitting is to constrain the model. For example in Polynomial Regression we would reduce the number of polynomial degrees."
   ]
  },
  {
   "cell_type": "markdown",
   "metadata": {},
   "source": [
    "### Ridge Regression\n",
    "Also called Tikhonov regularization is a regularized verion of Linear Regression. A regularization term equal to (alpha * Sum of theta) is added to the cost function. This forces the algorithm to not only fit the data, but also keep the model weights as small as possible. If alpha = 0, then the Ridge Regression is just Linear Regression, and if alpha is large then all the weights end up close to zero and results in a flat line through the data's mean.\n",
    "\n",
    "In model develope the Regularizatioon term should only be added to the cost function during training, and once trained it should be evaulated using the unregularized performance measure.\n",
    "\n",
    "When using Ridge Regression it's important to scale the data first."
   ]
  },
  {
   "cell_type": "code",
   "execution_count": 126,
   "metadata": {
    "collapsed": false
   },
   "outputs": [
    {
     "name": "stdout",
     "output_type": "stream",
     "text": [
      "Closed-form solution:\n",
      "[[ 8.94711154]]\n",
      "\n",
      "Stochastic Gradient Descent:\n",
      "[ 8.86302635]\n"
     ]
    }
   ],
   "source": [
    "# Let's perform Ridge Regresssion using Scikit_Learn using a closed-form solution  and then using stochastic gradient descent.\n",
    "\n",
    "# closed-form solution\n",
    "from sklearn.linear_model import Ridge\n",
    "ridge_reg = Ridge(alpha=1, solver=\"cholesky\")\n",
    "ridge_reg.fit(X,y)\n",
    "print(\"Closed-form solution:\")\n",
    "closed_form_sol = ridge_reg.predict([[1.5]])\n",
    "print(closed_form_sol)\n",
    "\n",
    "# stochastic gradient descent\n",
    "sgd_reg = SGDRegressor(penalty=\"l2\") # the penalty hyperparameter sets the type of regualization.\n",
    "sgd_reg.fit(X, y.ravel())\n",
    "print(\"\\nStochastic Gradient Descent:\")\n",
    "sgd_sol = sgd_reg.predict([[1.5]])\n",
    "print(sgd_sol)"
   ]
  },
  {
   "cell_type": "markdown",
   "metadata": {},
   "source": [
    "### Lasso Regression\n",
    "Least Absolute Shrikage and Selection Operator Regression (Lasso Regression) is another regularized version of Linear Regression. It adds a regularization term to the cost function, but it uses l1 norm of the weight vector instead of half the square of l2 norm.\n",
    "\n",
    "Lasso Regression aims to completely eliminate the weights of the least important features. In other words is automatically performs feature selection and outputs a sparse model (i.e. with few nonzero feature weights)."
   ]
  },
  {
   "cell_type": "code",
   "execution_count": 129,
   "metadata": {
    "collapsed": false
   },
   "outputs": [
    {
     "data": {
      "text/plain": [
       "array([ 8.86078515])"
      ]
     },
     "execution_count": 129,
     "metadata": {},
     "output_type": "execute_result"
    }
   ],
   "source": [
    "# Here's a small example using the sklearn Lasson class.\n",
    "from sklearn.linear_model import Lasso\n",
    "lasso_reg = Lasso(alpha=0.1)\n",
    "lasso_reg.fit(X, y)\n",
    "lasso_reg.predict([[1.5]])"
   ]
  },
  {
   "cell_type": "markdown",
   "metadata": {},
   "source": [
    "### Elastic Net\n",
    "Elastic Net is the middle ground between Ridge Regression and Lasso Regression. The regularization term is a simple mix of both Ridge and Lasso regularization terms, that can be controlled by a mix ratio r. When r=0, Elastic Net is equivalent to Ridge Regression, and when r=1, it is equivalent to Lasso Regrssion.\n",
    "\n",
    "When should you use which regularization:\n",
    "\n",
    "Ridge is a good defualt, but if you suspect that  only a few features are useful you should try Lasso or Elastic Net. Elastic Net is usually preferred over Lasso as Lasso can behave erratically when the number of features is greater than the number of training instances, or when several features are strongly correlated.\n"
   ]
  },
  {
   "cell_type": "code",
   "execution_count": 130,
   "metadata": {
    "collapsed": false
   },
   "outputs": [
    {
     "data": {
      "text/plain": [
       "array([ 8.77184756])"
      ]
     },
     "execution_count": 130,
     "metadata": {},
     "output_type": "execute_result"
    }
   ],
   "source": [
    "# Here's an example of Elastic Net\n",
    "from sklearn.linear_model import ElasticNet\n",
    "elastic_net = ElasticNet(alpha=0.1, l1_ratio=0.5)\n",
    "elastic_net.fit(X,y)\n",
    "elastic_net.predict([[1.5]])"
   ]
  },
  {
   "cell_type": "markdown",
   "metadata": {},
   "source": [
    "### Early Stopping\n",
    "\n",
    "A different approach to regularize learning algorithms is to stop training as soon as the validation error reaches its minmimum."
   ]
  },
  {
   "cell_type": "code",
   "execution_count": 137,
   "metadata": {
    "collapsed": false
   },
   "outputs": [
    {
     "ename": "TypeError",
     "evalue": "__init__() got an unexpected keyword argument 'max_iter'",
     "output_type": "error",
     "traceback": [
      "\u001b[0;31m---------------------------------------------------------------------------\u001b[0m",
      "\u001b[0;31mTypeError\u001b[0m                                 Traceback (most recent call last)",
      "\u001b[0;32m<ipython-input-137-c5a5ebf6ef37>\u001b[0m in \u001b[0;36m<module>\u001b[0;34m()\u001b[0m\n\u001b[1;32m     21\u001b[0m                        \u001b[0mwarm_start\u001b[0m\u001b[1;33m=\u001b[0m\u001b[1;32mTrue\u001b[0m\u001b[1;33m,\u001b[0m\u001b[1;33m\u001b[0m\u001b[0m\n\u001b[1;32m     22\u001b[0m                        \u001b[0mlearning_rate\u001b[0m\u001b[1;33m=\u001b[0m\u001b[1;34m\"constant\"\u001b[0m\u001b[1;33m,\u001b[0m\u001b[1;33m\u001b[0m\u001b[0m\n\u001b[0;32m---> 23\u001b[0;31m                        random_state=42)\n\u001b[0m\u001b[1;32m     24\u001b[0m \u001b[1;33m\u001b[0m\u001b[0m\n\u001b[1;32m     25\u001b[0m \u001b[0mn_epochs\u001b[0m \u001b[1;33m=\u001b[0m \u001b[1;36m500\u001b[0m\u001b[1;33m\u001b[0m\u001b[0m\n",
      "\u001b[0;31mTypeError\u001b[0m: __init__() got an unexpected keyword argument 'max_iter'"
     ]
    }
   ],
   "source": [
    "from sklearn.preprocessing import StandardScaler\n",
    "\n",
    "np.random.seed(42)\n",
    "m = 100\n",
    "X = 6 * np.random.rand(m, 1) - 3\n",
    "y = 2 + X + 0.5 * X**2 + np.random.randn(m, 1)\n",
    "\n",
    "X_train, X_val, y_train, y_val = train_test_split(X[:50], y[:50].ravel(), test_size=0.5, random_state=10)\n",
    "\n",
    "poly_scaler = Pipeline([\n",
    "        (\"poly_features\", PolynomialFeatures(degree=90, include_bias=False)),\n",
    "        (\"std_scaler\", StandardScaler()),\n",
    "    ])\n",
    "\n",
    "X_train_poly_scaled = poly_scaler.fit_transform(X_train)\n",
    "X_val_poly_scaled = poly_scaler.transform(X_val)\n",
    "\n",
    "sgd_reg = SGDRegressor(max_iter=1,\n",
    "                       penalty=None,\n",
    "                       eta0=0.0005,\n",
    "                       warm_start=True,\n",
    "                       learning_rate=\"constant\",\n",
    "                       random_state=42)\n",
    "\n",
    "n_epochs = 500\n",
    "train_errors, val_errors = [], []\n",
    "for epoch in range(n_epochs):\n",
    "    sgd_reg.fit(X_train_poly_scaled, y_train)\n",
    "    y_train_predict = sgd_reg.predict(X_train_poly_scaled)\n",
    "    y_val_predict = sgd_reg.predict(X_val_poly_scaled)\n",
    "    train_errors.append(mean_squared_error(y_train, y_train_predict))\n",
    "    val_errors.append(mean_squared_error(y_val, y_val_predict))\n",
    "\n",
    "best_epoch = np.argmin(val_errors)\n",
    "best_val_rmse = np.sqrt(val_errors[best_epoch])\n",
    "\n",
    "plt.annotate('Best model',\n",
    "             xy=(best_epoch, best_val_rmse),\n",
    "             xytext=(best_epoch, best_val_rmse + 1),\n",
    "             ha=\"center\",\n",
    "             arrowprops=dict(facecolor='black', shrink=0.05),\n",
    "             fontsize=16,\n",
    "            )\n",
    "\n",
    "best_val_rmse -= 0.03  # just to make the graph look better\n",
    "plt.plot([0, n_epochs], [best_val_rmse, best_val_rmse], \"k:\", linewidth=2)\n",
    "plt.plot(np.sqrt(val_errors), \"b-\", linewidth=3, label=\"Validation set\")\n",
    "plt.plot(np.sqrt(train_errors), \"r--\", linewidth=2, label=\"Training set\")\n",
    "plt.legend(loc=\"upper right\", fontsize=14)\n",
    "plt.xlabel(\"Epoch\", fontsize=14)\n",
    "plt.ylabel(\"RMSE\", fontsize=14)\n",
    "#save_fig(\"early_stopping_plot\")\n",
    "plt.show()"
   ]
  },
  {
   "cell_type": "code",
   "execution_count": 138,
   "metadata": {
    "collapsed": false
   },
   "outputs": [],
   "source": [
    "# Here is a simple example\n",
    "from sklearn.base import clone\n",
    "from sklearn.preprocessing import StandardScaler\n",
    "\n",
    "np.random.seed(42)\n",
    "m = 100\n",
    "X = 6 * np.random.rand(m, 1) - 3\n",
    "y = 2 + X + 0.5 * X**2 + np.random.randn(m, 1)\n",
    "\n",
    "X_train, X_val, y_train, y_val = train_test_split(X[:50], y[:50].ravel(), test_size=0.5, random_state=10)\n",
    "\n",
    "# prepare data\n",
    "poly_scaler = Pipeline([\n",
    "        (\"poly_feature\", PolynomialFeatures(degree=90, include_bias = False)),\n",
    "        (\"std_scaler\", StandardScaler()),\n",
    "    ])\n",
    "X_train_poly_scaled = poly_scaler.fit_transform(X_train)\n",
    "X_val_poly_scaled = poly_scaler.transform(X_val)\n",
    "\n",
    "sgd_reg = SGDRegressor(n_iter=1, warm_start=True, penalty=None,\n",
    "                      learning_rate=\"constant\", eta0=0.0005)\n",
    "\n",
    "minimum_val_error = float(\"inf\")\n",
    "best_epoch = None\n",
    "best_model = None\n",
    "for epoch in range(1000):\n",
    "    sgd_reg.fit(X_train_poly_scaled, y_train)   #warmstart ensures it continues training where it left off\n",
    "    y_val_predict = sgd_reg.predict(X_val_poly_scaled)\n",
    "    val_error = mean_squared_error(y_val_predict, y_val)\n",
    "    if val_error < minimum_val_error:      # store best model results here\n",
    "        minimum_val_error = val_error\n",
    "        best_epoch = epoch\n",
    "        best_model = clone(sgd_reg)"
   ]
  },
  {
   "cell_type": "code",
   "execution_count": 148,
   "metadata": {
    "collapsed": false
   },
   "outputs": [
    {
     "name": "stdout",
     "output_type": "stream",
     "text": [
      "Best Model outputs\n",
      "Validation Errror 1.29586685259\n",
      "\n",
      "Best epoch and Model\n"
     ]
    },
    {
     "data": {
      "text/plain": [
       "(0, SGDRegressor(alpha=0.0001, average=False, epsilon=0.1, eta0=0.0005,\n",
       "        fit_intercept=True, l1_ratio=0.15, learning_rate='constant',\n",
       "        loss='squared_loss', n_iter=1, penalty=None, power_t=0.25,\n",
       "        random_state=None, shuffle=True, verbose=0, warm_start=True))"
      ]
     },
     "execution_count": 148,
     "metadata": {},
     "output_type": "execute_result"
    }
   ],
   "source": [
    "print(\"Best Model outputs\")\n",
    "print(\"Validation Errror\", minimum_val_error)\n",
    "print(\"\\nBest epoch and Model\")\n",
    "best_epoch, best_model"
   ]
  },
  {
   "cell_type": "markdown",
   "metadata": {},
   "source": [
    "### Logistic Regression\n",
    "Logistic Regression also called logit regression is commonly used for classifications. If the probability output is greater than 50% then the model predicts the postive class, else the negative class.\n",
    "\n",
    "Similar to linear reggresion a logistic regression model computes a weighted sum of the input features (plus a bias term), but instead of outputting the result directly it outputs the logistic of this result.\n",
    "\n",
    "The logistic (or logit) is a sigmoid function (i.e. S-shaped) that outputs a number between 0 and 1. Once the model has estimated the probability it makes a prediction using a threshold of 0.5"
   ]
  },
  {
   "cell_type": "markdown",
   "metadata": {},
   "source": [
    "### Training and Cost Function\n",
    "Logistic Regression is trained to estimate high probabilities for postive instances and low probabilities for negative instances. \n",
    "\n",
    "This model uses a special cost function called the log loss. It's a stepwise function, that outputs a high cost if the model estimates a probability close to zero for positive instances, and also a cost high if it outputs probability close to 1 for a negative instance. The cost function over the entire training set is just the average cost over all training instances.\n",
    "\n",
    "The cost fuction doesn't have closed-form equation, however the function is convex so gradient descent is guaranteed to find the global minimum."
   ]
  },
  {
   "cell_type": "code",
   "execution_count": 156,
   "metadata": {
    "collapsed": false
   },
   "outputs": [
    {
     "name": "stdout",
     "output_type": "stream",
     "text": [
      "Iris Plants Database\n",
      "====================\n",
      "\n",
      "Notes\n",
      "-----\n",
      "Data Set Characteristics:\n",
      "    :Number of Instances: 150 (50 in each of three classes)\n",
      "    :Number of Attributes: 4 numeric, predictive attributes and the class\n",
      "    :Attribute Information:\n",
      "        - sepal length in cm\n",
      "        - sepal width in cm\n",
      "        - petal length in cm\n",
      "        - petal width in cm\n",
      "        - class:\n",
      "                - Iris-Setosa\n",
      "                - Iris-Versicolour\n",
      "                - Iris-Virginica\n",
      "    :Summary Statistics:\n",
      "\n",
      "    ============== ==== ==== ======= ===== ====================\n",
      "                    Min  Max   Mean    SD   Class Correlation\n",
      "    ============== ==== ==== ======= ===== ====================\n",
      "    sepal length:   4.3  7.9   5.84   0.83    0.7826\n",
      "    sepal width:    2.0  4.4   3.05   0.43   -0.4194\n",
      "    petal length:   1.0  6.9   3.76   1.76    0.9490  (high!)\n",
      "    petal width:    0.1  2.5   1.20  0.76     0.9565  (high!)\n",
      "    ============== ==== ==== ======= ===== ====================\n",
      "\n",
      "    :Missing Attribute Values: None\n",
      "    :Class Distribution: 33.3% for each of 3 classes.\n",
      "    :Creator: R.A. Fisher\n",
      "    :Donor: Michael Marshall (MARSHALL%PLU@io.arc.nasa.gov)\n",
      "    :Date: July, 1988\n",
      "\n",
      "This is a copy of UCI ML iris datasets.\n",
      "http://archive.ics.uci.edu/ml/datasets/Iris\n",
      "\n",
      "The famous Iris database, first used by Sir R.A Fisher\n",
      "\n",
      "This is perhaps the best known database to be found in the\n",
      "pattern recognition literature.  Fisher's paper is a classic in the field and\n",
      "is referenced frequently to this day.  (See Duda & Hart, for example.)  The\n",
      "data set contains 3 classes of 50 instances each, where each class refers to a\n",
      "type of iris plant.  One class is linearly separable from the other 2; the\n",
      "latter are NOT linearly separable from each other.\n",
      "\n",
      "References\n",
      "----------\n",
      "   - Fisher,R.A. \"The use of multiple measurements in taxonomic problems\"\n",
      "     Annual Eugenics, 7, Part II, 179-188 (1936); also in \"Contributions to\n",
      "     Mathematical Statistics\" (John Wiley, NY, 1950).\n",
      "   - Duda,R.O., & Hart,P.E. (1973) Pattern Classification and Scene Analysis.\n",
      "     (Q327.D83) John Wiley & Sons.  ISBN 0-471-22361-1.  See page 218.\n",
      "   - Dasarathy, B.V. (1980) \"Nosing Around the Neighborhood: A New System\n",
      "     Structure and Classification Rule for Recognition in Partially Exposed\n",
      "     Environments\".  IEEE Transactions on Pattern Analysis and Machine\n",
      "     Intelligence, Vol. PAMI-2, No. 1, 67-71.\n",
      "   - Gates, G.W. (1972) \"The Reduced Nearest Neighbor Rule\".  IEEE Transactions\n",
      "     on Information Theory, May 1972, 431-433.\n",
      "   - See also: 1988 MLC Proceedings, 54-64.  Cheeseman et al\"s AUTOCLASS II\n",
      "     conceptual clustering system finds 3 classes in the data.\n",
      "   - Many, many more ...\n",
      "\n"
     ]
    },
    {
     "data": {
      "text/plain": [
       "['DESCR', 'feature_names', 'target_names', 'data', 'target']"
      ]
     },
     "execution_count": 156,
     "metadata": {},
     "output_type": "execute_result"
    }
   ],
   "source": [
    "# Let's try it now on the iris dataset\n",
    "from sklearn import datasets\n",
    "iris = datasets.load_iris()\n",
    "print(iris.DESCR)\n",
    "\n",
    "list(iris.keys())"
   ]
  },
  {
   "cell_type": "code",
   "execution_count": 153,
   "metadata": {
    "collapsed": false
   },
   "outputs": [
    {
     "name": "stdout",
     "output_type": "stream",
     "text": [
      "[[ 0.2]\n",
      " [ 0.2]\n",
      " [ 0.2]\n",
      " [ 0.2]\n",
      " [ 0.2]]\n",
      "[0 0 0 0 0]\n"
     ]
    }
   ],
   "source": [
    "X_all = iris[\"data\"]\n",
    "X = X_all[:, 3:] # petal width\n",
    "y = (iris[\"target\"] == 2).astype(np.int)  # 1 if Iris-Virginica, else 0\n",
    "\n",
    "print(X[:5])\n",
    "print(y[:5])"
   ]
  },
  {
   "cell_type": "code",
   "execution_count": 155,
   "metadata": {
    "collapsed": false
   },
   "outputs": [
    {
     "data": {
      "text/plain": [
       "LogisticRegression(C=1.0, class_weight=None, dual=False, fit_intercept=True,\n",
       "          intercept_scaling=1, max_iter=100, multi_class='ovr', n_jobs=1,\n",
       "          penalty='l2', random_state=None, solver='liblinear', tol=0.0001,\n",
       "          verbose=0, warm_start=False)"
      ]
     },
     "execution_count": 155,
     "metadata": {},
     "output_type": "execute_result"
    }
   ],
   "source": [
    "# Now let's train a Logistic Regression\n",
    "from sklearn.linear_model import LogisticRegression\n",
    "\n",
    "log_reg = LogisticRegression()\n",
    "log_reg.fit(X,y)"
   ]
  },
  {
   "cell_type": "code",
   "execution_count": 162,
   "metadata": {
    "collapsed": false
   },
   "outputs": [
    {
     "data": {
      "text/plain": [
       "<matplotlib.text.Text at 0x194f60f96a0>"
      ]
     },
     "execution_count": 162,
     "metadata": {},
     "output_type": "execute_result"
    },
    {
     "data": {
      "image/png": "[encoded data removed]",
      "text/plain": [
       "<matplotlib.figure.Figure at 0x194f64089b0>"
      ]
     },
     "metadata": {},
     "output_type": "display_data"
    }
   ],
   "source": [
    "X_new = np.linspace(0, 3, 1000).reshape(-1, 1)\n",
    "y_proba = log_reg.predict_proba(X_new)\n",
    "plt.plot(X_new, y_proba[:, 1], \"g-\", label=\"Iris-Virginica\")\n",
    "plt.plot(X_new, y_proba[:, 0], \"b--\", label=\"Not Iris-Virginica\")\n",
    "plt.legend()\n",
    "plt.xlabel(\"Petal width (cm)\")\n",
    "plt.ylabel(\"Probability\")"
   ]
  },
  {
   "cell_type": "code",
   "execution_count": 163,
   "metadata": {
    "collapsed": false
   },
   "outputs": [
    {
     "data": {
      "text/plain": [
       "array([1, 0])"
      ]
     },
     "execution_count": 163,
     "metadata": {},
     "output_type": "execute_result"
    }
   ],
   "source": [
    "## make predictions\n",
    "log_reg.predict([[1.7], [1.5]])"
   ]
  },
  {
   "cell_type": "markdown",
   "metadata": {},
   "source": [
    "### Softmax Regression\n",
    "Logistic Regression can be generalized to work with multiple classes directly, without having to train multipe binary classifiers. This called Softmax Regression or Multinomial Logistic Regression.\n",
    "\n",
    "This works by first computing a score for each class k, and then estimates the probability of each class by applying the softmax functions (also known as the normalizied exponential) to the scores."
   ]
  }
 ],
 "metadata": {
  "kernelspec": {
   "display_name": "Python [conda root]",
   "language": "python",
   "name": "conda-root-py"
  },
  "language_info": {
   "codemirror_mode": {
    "name": "ipython",
    "version": 3
   },
   "file_extension": ".py",
   "mimetype": "text/x-python",
   "name": "python",
   "nbconvert_exporter": "python",
   "pygments_lexer": "ipython3",
   "version": "3.5.2"
  }
 },
 "nbformat": 4,
 "nbformat_minor": 1
}
